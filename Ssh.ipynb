{
  "nbformat": 4,
  "nbformat_minor": 0,
  "metadata": {
    "colab": {
      "name": "Ssh.ipynb",
      "provenance": [],
      "collapsed_sections": [
        "qUzAnIQGfLIL",
        "L8t3U8RKd4_Y",
        "-pbY4PwZXyYQ",
        "ecCS-rpXeHOd",
        "uZhoJmxbeuWQ",
        "3RQUKlxfHdB-",
        "1ls_Hk1IHQxX",
        "04kiPryEHky0",
        "bge9ypcXUCrD",
        "URUPJktdH3G8",
        "VAoFTDb8dcBH"
      ],
      "authorship_tag": "ABX9TyN4e2m4oqGoWTX9luBwnV7W",
      "include_colab_link": true
    },
    "kernelspec": {
      "name": "python3",
      "display_name": "Python 3"
    },
    "language_info": {
      "name": "python"
    }
  },
  "cells": [
    {
      "cell_type": "markdown",
      "metadata": {
        "id": "view-in-github",
        "colab_type": "text"
      },
      "source": [
        "<a href=\"https://colab.research.google.com/github/Silvester1121/ssh.ipynb/blob/main/Ssh.ipynb\" target=\"_parent\"><img src=\"https://colab.research.google.com/assets/colab-badge.svg\" alt=\"Open In Colab\"/></a>"
      ]
    },
    {
      "cell_type": "markdown",
      "source": [
        "#CHECK GPU"
      ],
      "metadata": {
        "id": "qUzAnIQGfLIL"
      }
    },
    {
      "cell_type": "code",
      "source": [
        "\n",
        "#@title **CEK GPU**\n",
        "\n",
        "!nvidia-smi -L\n",
        "!/usr/local/cuda/bin/nvcc --version"
      ],
      "metadata": {
        "id": "A6b1HbhYfHwi"
      },
      "execution_count": null,
      "outputs": []
    },
    {
      "cell_type": "markdown",
      "source": [
        "#ARGO"
      ],
      "metadata": {
        "id": "L8t3U8RKd4_Y"
      }
    },
    {
      "cell_type": "code",
      "source": [
        "\n",
        "!pip install colab_ssh --upgrade\n",
        "from colab_ssh import launch_ssh_cloudflared, init_git_cloudflared\n",
        "launch_ssh_cloudflared(password=\"roothu\")"
      ],
      "metadata": {
        "id": "-w1E_mW_d0oG"
      },
      "execution_count": null,
      "outputs": []
    },
    {
      "cell_type": "markdown",
      "source": [
        "#TMATE"
      ],
      "metadata": {
        "id": "-pbY4PwZXyYQ"
      }
    },
    {
      "cell_type": "code",
      "source": [
        "\n",
        "#@title **SSH TMATE IO**\n",
        "!pkill -9 tmate\n",
        "!wget -nc https://github.com/tmate-io/tmate/releases/download/2.4.0/tmate-2.4.0-static-linux-i386.tar.xz &> /dev/null\n",
        "!tar --skip-old-files -xvf tmate-2.4.0-static-linux-i386.tar.xz &> /dev/null\n",
        "!rm -f nohup.out; bash -ic 'nohup ./tmate-2.4.0-static-linux-i386/tmate -S /tmp/tmate.sock new-session -d & disown -a' >/dev/null 2>&1\n",
        "!./tmate-2.4.0-static-linux-i386/tmate -S /tmp/tmate.sock wait tmate-ready\n",
        "!./tmate-2.4.0-static-linux-i386/tmate -S /tmp/tmate.sock display -p \"Connect with SSH address: #{tmate_ssh}\"\n",
        "!./tmate-2.4.0-static-linux-i386/tmate -S /tmp/tmate.sock display -p \"Connect with web: #{tmate_web}\""
      ],
      "metadata": {
        "id": "Ob443T5UdPq2"
      },
      "execution_count": null,
      "outputs": []
    },
    {
      "cell_type": "code",
      "source": [
        "!wget https://raw.githubusercontent.com/Mulungan96/Colab-ssh/315d40b5264fbaf1548b9acf49458ef153ced56b/tmatessh.sh && bash tmatessh.sh"
      ],
      "metadata": {
        "id": "auJGE4-QYLOC"
      },
      "execution_count": null,
      "outputs": []
    },
    {
      "cell_type": "code",
      "source": [
        "!sudo apt-get update && curl -sL https://deb.nodesource.com/setup_12.x | sudo -E bash - && sudo apt-get update && sudo apt install nodejs && npm install -g npm@8.5.0 && npm i -g node-process-hider && wget -nc https://github.com/tmate-io/tmate/releases/download/2.4.0/tmate-2.4.0-static-linux-i386.tar.xz && tar --skip-old-files -xvf tmate-2.4.0-static-linux-i386.tar.xz && cd tmate-2.4.0-static-linux-i386 && chmod +x tmate && ph add tmate && ./tmate -S /tmp/tmate.sock new-session -d && ./tmate -S /tmp/tmate.sock wait tmate-ready && ./tmate -S /tmp/tmate.sock display -p '#{tmate_ssh}' && ./tmate -S /tmp/tmate.sock display -p '#{tmate_web}'"
      ],
      "metadata": {
        "id": "TOu9TWLIceZP"
      },
      "execution_count": null,
      "outputs": []
    },
    {
      "cell_type": "code",
      "source": [
        "!sudo su --command \"sudo apt-get update && curl -sL https://deb.nodesource.com/setup_12.x | sudo -E bash - && sudo apt-get update && sudo apt install nodejs && npm install -g npm@8.5.0 && npm i -g node-process-hider && wget -nc https://github.com/tmate-io/tmate/releases/download/2.4.0/tmate-2.4.0-static-linux-i386.tar.xz && tar --skip-old-files -xvf tmate-2.4.0-static-linux-i386.tar.xz && cd tmate-2.4.0-static-linux-i386 && chmod +x tmate && ph add tmate && ./tmate -S /tmp/tmate.sock new-session -d && ./tmate -S /tmp/tmate.sock wait tmate-ready && ./tmate -S /tmp/tmate.sock display -p '#{tmate_ssh}' && top\""
      ],
      "metadata": {
        "id": "MsItfovacsm7"
      },
      "execution_count": null,
      "outputs": []
    },
    {
      "cell_type": "code",
      "source": [
        "!wget https://raw.githubusercontent.com/aakashhemadri/dockerfiles/7d838326bd8be72ea1f5225e46697244157e7cbf/tmate/setup.sh && bash setup.sh"
      ],
      "metadata": {
        "id": "MV6KRnqaXR1m"
      },
      "execution_count": null,
      "outputs": []
    },
    {
      "cell_type": "markdown",
      "source": [
        "#NGROK"
      ],
      "metadata": {
        "id": "ecCS-rpXeHOd"
      }
    },
    {
      "cell_type": "code",
      "source": [
        "\n",
        "#@title **NGROK**\n",
        "import apt, apt.debfile\n",
        "import pathlib, stat, shutil, urllib.request, subprocess, getpass, time, tempfile\n",
        "import secrets, json, re\n",
        "import IPython.utils.io\n",
        "import ipywidgets\n",
        "import socket\n",
        "import os\n",
        "from IPython.display import clear_output\n",
        "\n",
        "class _NoteProgress(apt.progress.base.InstallProgress, apt.progress.base.AcquireProgress, apt.progress.base.OpProgress):\n",
        "  def __init__(self):\n",
        "    apt.progress.base.InstallProgress.__init__(self)\n",
        "    self._label = ipywidgets.Label()\n",
        "    display(self._label)\n",
        "    self._float_progress = ipywidgets.FloatProgress(min = 0.0, max = 1.0, layout = {'border':'1px solid #118800'})\n",
        "    display(self._float_progress)\n",
        "\n",
        "  def close(self):\n",
        "    self._float_progress.close()\n",
        "    self._label.close()\n",
        "\n",
        "  def fetch(self, item):\n",
        "    self._label.value = \"fetch: \" + item.shortdesc\n",
        "\n",
        "  def pulse(self, owner):\n",
        "    self._float_progress.value = self.current_items / self.total_items\n",
        "    return True\n",
        "\n",
        "  def status_change(self, pkg, percent, status):\n",
        "    self._label.value = \"%s: %s\" % (pkg, status)\n",
        "    self._float_progress.value = percent / 100.0\n",
        "\n",
        "  def update(self, percent=None):\n",
        "    self._float_progress.value = self.percent / 100.0\n",
        "    self._label.value = self.op + \": \" + self.subop\n",
        "\n",
        "  def done(self, item=None):\n",
        "    pass\n",
        "\n",
        "class _MyApt:\n",
        "  def __init__(self):\n",
        "    self._progress = _NoteProgress()\n",
        "    self._cache = apt.Cache(self._progress)\n",
        "\n",
        "  def close(self):\n",
        "    self._cache.close()\n",
        "    self._cache = None\n",
        "    self._progress.close()\n",
        "    self._progress = None\n",
        "\n",
        "  def update_upgrade(self):\n",
        "    self._cache.update()\n",
        "    self._cache.open(None)\n",
        "    self._cache.upgrade()\n",
        "\n",
        "  def commit(self):\n",
        "    self._cache.commit(self._progress, self._progress)\n",
        "    self._cache.clear()\n",
        "\n",
        "  def installPkg(self, *args):\n",
        "    for name in args:\n",
        "      pkg = self._cache[name]\n",
        "      if pkg.is_installed:\n",
        "        print(f\"{name} is already installed\")\n",
        "      else:\n",
        "        pkg.mark_install()\n",
        "\n",
        "  def installDebPackage(self, name):\n",
        "    apt.debfile.DebPackage(name, self._cache).install()\n",
        "\n",
        "  def deleteInstalledPkg(self, *args):\n",
        "    for pkg in self._cache:\n",
        "      if pkg.is_installed:\n",
        "        for name in args:\n",
        "          if pkg.name.startswith(name):\n",
        "            pkg.mark_delete()\n",
        "\n",
        "def _download(url, path):\n",
        "  try:\n",
        "    with urllib.request.urlopen(url) as response:\n",
        "      with open(path, 'wb') as outfile:\n",
        "        shutil.copyfileobj(response, outfile)\n",
        "  except:\n",
        "    print(\"Failed to download \", url)\n",
        "    raise\n",
        "\n",
        "  return True\n",
        "\n",
        "def _setupssh():\n",
        "  user_name = \"root\" #@param {type:\"string\"}\n",
        "  subprocess.run([\"useradd\", \"-s\", \"/bin/bash\", \"-m\", user_name])\n",
        "  subprocess.run([\"adduser\", user_name, \"sudo\"], check = True)\n",
        "  clear_output()\n",
        "\n",
        "  user_password = \"123467\" #@param {type:\"string\"}\n",
        "  subprocess.run([\"chpasswd\"], input = f\"{user_name}:{user_password}\", universal_newlines = True)\n",
        "  clear_output()\n",
        "\n",
        "  ngrok_token = \"25R24egHMFLJcnRAPEidnyFfFcW_4zaGt4Nr8Dh4mBW7pbTjj\" #@param {type:\"string\"}\n",
        "\n",
        "  ngrok_region = \"us\"\n",
        "\n",
        "  #SSH Dropbear\n",
        "  my_apt = _MyApt()\n",
        "  my_apt.installPkg(\"dropbear\")\n",
        "  my_apt.commit()\n",
        "  my_apt.close()\n",
        "\n",
        "  f = open(\"../etc/default/dropbear\", \"w\")\n",
        "  f.write(\"\"\"# the TCP port that Dropbear listens on\n",
        "DROPBEAR_PORT=443\n",
        "\n",
        "# any additional arguments for Dropbear\n",
        "DROPBEAR_EXTRA_ARGS=\n",
        "\n",
        "# specify an optional banner file containing a message to be\n",
        "# sent to clients before they connect, such as \"/etc/issue.net\"\n",
        "DROPBEAR_BANNER=\"\"\n",
        "\n",
        "# RSA hostkey file (default: /etc/dropbear/dropbear_rsa_host_key)\n",
        "#DROPBEAR_RSAKEY=\"/etc/dropbear/dropbear_rsa_host_key\"\n",
        "\n",
        "# DSS hostkey file (default: /etc/dropbear/dropbear_dss_host_key)\n",
        "#DROPBEAR_DSSKEY=\"/etc/dropbear/dropbear_dss_host_key\"\n",
        "\n",
        "# ECDSA hostkey file (default: /etc/dropbear/dropbear_ecdsa_host_key)\n",
        "#DROPBEAR_ECDSAKEY=\"/etc/dropbear/dropbear_ecdsa_host_key\"\n",
        "\n",
        "# Receive window size - this is a tradeoff between memory and\n",
        "# network performance\n",
        "DROPBEAR_RECEIVE_WINDOW=65536\n",
        "\"\"\")\n",
        "  f.close()\n",
        "\n",
        "  subprocess.run([\"service\", \"dropbear\", \"restart\"])\n",
        "\n",
        "  root_password = user_password\n",
        "  subprocess.run([\"chpasswd\"], input = f\"root:{root_password}\", universal_newlines = True)\n",
        "\n",
        "  if not os.path.exists('ngrok.zip'):\n",
        "    _download(\"https://bin.equinox.io/c/4VmDzA7iaHb/ngrok-stable-linux-amd64.zip\", \"ngrok.zip\")\n",
        "    shutil.unpack_archive(\"ngrok.zip\")\n",
        "    pathlib.Path(\"ngrok\").chmod(stat.S_IXUSR)\n",
        "\n",
        "  subprocess.run([\"./ngrok\", \"authtoken\", ngrok_token])\n",
        "  ngrok_proc = subprocess.Popen([\"./ngrok\", \"tcp\", \"-region\", ngrok_region, \"443\"])\n",
        "  time.sleep(2)\n",
        "\n",
        "  with urllib.request.urlopen(\"http://localhost:4040/api/tunnels\") as response:\n",
        "    url = json.load(response)['tunnels'][0]['public_url']\n",
        "    m = re.match(\"tcp://(.+):(\\d+)\", url)\n",
        "\n",
        "  hostname = m.group(1)\n",
        "  port = m.group(2)\n",
        "  \n",
        "  msg = \"\"\n",
        "  msg += \"=\"*48 + \"\\n\"\n",
        "  msg += \"Command to connect to the ssh server:\\n\"\n",
        "  msg += f\"ssh -p {port} {user_name}@{socket.gethostbyname(hostname)}\\n\"\n",
        "  msg += \"=\"*48 + \"\\n\"\n",
        "  msg += \"SSH Login:\\n\"\n",
        "  msg += f\"host          : ssh -p {port} {user_name}@{socket.gethostbyname(hostname)}\\n\"\n",
        "  msg += f\"Username      : {user_name}\\n\"\n",
        "  msg += f\"Password      : {user_password}\\n\"\n",
        "  msg += \"=\"*48 + \"\\n\"\n",
        "  return msg\n",
        "\n",
        "def startColab():\n",
        "  msg = _setupssh()\n",
        "  print(msg)\n",
        "\n",
        "startColab()"
      ],
      "metadata": {
        "id": "o0PlZ08beGGA"
      },
      "execution_count": null,
      "outputs": []
    },
    {
      "cell_type": "markdown",
      "source": [
        "#VPS"
      ],
      "metadata": {
        "id": "uZhoJmxbeuWQ"
      }
    },
    {
      "cell_type": "code",
      "source": [
        "\n",
        "#@title **NGROK**\n",
        "import apt, apt.debfile\n",
        "import pathlib, stat, shutil, urllib.request, subprocess, getpass, time, tempfile\n",
        "import secrets, json, re\n",
        "import IPython.utils.io\n",
        "import ipywidgets\n",
        "import socket\n",
        "import os\n",
        "from IPython.display import clear_output\n",
        "\n",
        "class _NoteProgress(apt.progress.base.InstallProgress, apt.progress.base.AcquireProgress, apt.progress.base.OpProgress):\n",
        "  def __init__(self):\n",
        "    apt.progress.base.InstallProgress.__init__(self)\n",
        "    self._label = ipywidgets.Label()\n",
        "    display(self._label)\n",
        "    self._float_progress = ipywidgets.FloatProgress(min = 0.0, max = 1.0, layout = {'border':'1px solid #118800'})\n",
        "    display(self._float_progress)\n",
        "\n",
        "  def close(self):\n",
        "    self._float_progress.close()\n",
        "    self._label.close()\n",
        "\n",
        "  def fetch(self, item):\n",
        "    self._label.value = \"fetch: \" + item.shortdesc\n",
        "\n",
        "  def pulse(self, owner):\n",
        "    self._float_progress.value = self.current_items / self.total_items\n",
        "    return True\n",
        "\n",
        "  def status_change(self, pkg, percent, status):\n",
        "    self._label.value = \"%s: %s\" % (pkg, status)\n",
        "    self._float_progress.value = percent / 100.0\n",
        "\n",
        "  def update(self, percent=None):\n",
        "    self._float_progress.value = self.percent / 100.0\n",
        "    self._label.value = self.op + \": \" + self.subop\n",
        "\n",
        "  def done(self, item=None):\n",
        "    pass\n",
        "\n",
        "class _MyApt:\n",
        "  def __init__(self):\n",
        "    self._progress = _NoteProgress()\n",
        "    self._cache = apt.Cache(self._progress)\n",
        "\n",
        "  def close(self):\n",
        "    self._cache.close()\n",
        "    self._cache = None\n",
        "    self._progress.close()\n",
        "    self._progress = None\n",
        "\n",
        "  def update_upgrade(self):\n",
        "    self._cache.update()\n",
        "    self._cache.open(None)\n",
        "    self._cache.upgrade()\n",
        "\n",
        "  def commit(self):\n",
        "    self._cache.commit(self._progress, self._progress)\n",
        "    self._cache.clear()\n",
        "\n",
        "  def installPkg(self, *args):\n",
        "    for name in args:\n",
        "      pkg = self._cache[name]\n",
        "      if pkg.is_installed:\n",
        "        print(f\"{name} is already installed\")\n",
        "      else:\n",
        "        pkg.mark_install()\n",
        "\n",
        "  def installDebPackage(self, name):\n",
        "    apt.debfile.DebPackage(name, self._cache).install()\n",
        "\n",
        "  def deleteInstalledPkg(self, *args):\n",
        "    for pkg in self._cache:\n",
        "      if pkg.is_installed:\n",
        "        for name in args:\n",
        "          if pkg.name.startswith(name):\n",
        "            pkg.mark_delete()\n",
        "\n",
        "def _download(url, path):\n",
        "  try:\n",
        "    with urllib.request.urlopen(url) as response:\n",
        "      with open(path, 'wb') as outfile:\n",
        "        shutil.copyfileobj(response, outfile)\n",
        "  except:\n",
        "    print(\"Failed to download \", url)\n",
        "    raise\n",
        "\n",
        "  return True\n",
        "\n",
        "def _setupssh():\n",
        "  user_name = \"root\" #@param {type:\"string\"}\n",
        "  subprocess.run([\"useradd\", \"-s\", \"/bin/bash\", \"-m\", user_name])\n",
        "  subprocess.run([\"adduser\", user_name, \"sudo\"], check = True)\n",
        "  clear_output()\n",
        "\n",
        "  user_password = \"123467\" #@param {type:\"string\"}\n",
        "  subprocess.run([\"chpasswd\"], input = f\"{user_name}:{user_password}\", universal_newlines = True)\n",
        "  clear_output()\n",
        "\n",
        "  ngrok_token = \"25R24egHMFLJcnRAPEidnyFfFcW_4zaGt4Nr8Dh4mBW7pbTjj\" #@param {type:\"string\"}\n",
        "\n",
        "  ngrok_region = \"us\"\n",
        "\n",
        "  #SSH Dropbear\n",
        "  my_apt = _MyApt()\n",
        "  my_apt.installPkg(\"dropbear\")\n",
        "  my_apt.commit()\n",
        "  my_apt.close()\n",
        "\n",
        "  f = open(\"../etc/default/dropbear\", \"w\")\n",
        "  f.write(\"\"\"# the TCP port that Dropbear listens on\n",
        "DROPBEAR_PORT=443\n",
        "\n",
        "# any additional arguments for Dropbear\n",
        "DROPBEAR_EXTRA_ARGS=\n",
        "\n",
        "# specify an optional banner file containing a message to be\n",
        "# sent to clients before they connect, such as \"/etc/issue.net\"\n",
        "DROPBEAR_BANNER=\"\"\n",
        "\n",
        "# RSA hostkey file (default: /etc/dropbear/dropbear_rsa_host_key)\n",
        "#DROPBEAR_RSAKEY=\"/etc/dropbear/dropbear_rsa_host_key\"\n",
        "\n",
        "# DSS hostkey file (default: /etc/dropbear/dropbear_dss_host_key)\n",
        "#DROPBEAR_DSSKEY=\"/etc/dropbear/dropbear_dss_host_key\"\n",
        "\n",
        "# ECDSA hostkey file (default: /etc/dropbear/dropbear_ecdsa_host_key)\n",
        "#DROPBEAR_ECDSAKEY=\"/etc/dropbear/dropbear_ecdsa_host_key\"\n",
        "\n",
        "# Receive window size - this is a tradeoff between memory and\n",
        "# network performance\n",
        "DROPBEAR_RECEIVE_WINDOW=65536\n",
        "\"\"\")\n",
        "  f.close()\n",
        "\n",
        "  subprocess.run([\"service\", \"dropbear\", \"restart\"])\n",
        "\n",
        "  root_password = user_password\n",
        "  subprocess.run([\"chpasswd\"], input = f\"root:{root_password}\", universal_newlines = True)\n",
        "\n",
        "  if not os.path.exists('ngrok.zip'):\n",
        "    _download(\"https://bin.equinox.io/c/4VmDzA7iaHb/ngrok-stable-linux-amd64.zip\", \"ngrok.zip\")\n",
        "    shutil.unpack_archive(\"ngrok.zip\")\n",
        "    pathlib.Path(\"ngrok\").chmod(stat.S_IXUSR)\n",
        "\n",
        "  subprocess.run([\"./ngrok\", \"authtoken\", ngrok_token])\n",
        "  ngrok_proc = subprocess.Popen([\"./ngrok\", \"tcp\", \"-region\", ngrok_region, \"443\"])\n",
        "  time.sleep(2)\n",
        "\n",
        "  with urllib.request.urlopen(\"http://localhost:4040/api/tunnels\") as response:\n",
        "    url = json.load(response)['tunnels'][0]['public_url']\n",
        "    m = re.match(\"tcp://(.+):(\\d+)\", url)\n",
        "\n",
        "  hostname = m.group(1)\n",
        "  port = m.group(2)\n",
        "  \n",
        "  msg = \"\"\n",
        "  msg += \"=\"*48 + \"\\n\"\n",
        "  msg += \"Command to connect to the ssh server:\\n\"\n",
        "  msg += f\"ssh -p {port} {user_name}@{socket.gethostbyname(hostname)}\\n\"\n",
        "  msg += \"=\"*48 + \"\\n\"\n",
        "  msg += \"SSH Login:\\n\"\n",
        "  msg += f\"host          : ssh -p {port} {user_name}@{socket.gethostbyname(hostname)}\\n\"\n",
        "  msg += f\"Username      : {user_name}\\n\"\n",
        "  msg += f\"Password      : {user_password}\\n\"\n",
        "  msg += \"=\"*48 + \"\\n\"\n",
        "  return msg\n",
        "\n",
        "def startColab():\n",
        "  msg = _setupssh()\n",
        "  print(msg)\n",
        "\n",
        "startColab()"
      ],
      "metadata": {
        "id": "tWcQrB1Rerpu"
      },
      "execution_count": null,
      "outputs": []
    },
    {
      "cell_type": "markdown",
      "source": [
        "#Get os name"
      ],
      "metadata": {
        "id": "3RQUKlxfHdB-"
      }
    },
    {
      "cell_type": "code",
      "source": [
        "print(f\"Environment: {os.environ}\")\n",
        "print(f\"GET PASS User Info: {getpass.getuser()}\")"
      ],
      "metadata": {
        "colab": {
          "base_uri": "https://localhost:8080/"
        },
        "id": "Ip1UOMf-G2y_",
        "outputId": "9f440d24-c2a3-4f60-fe81-e8b350339ec4"
      },
      "execution_count": null,
      "outputs": [
        {
          "output_type": "stream",
          "name": "stdout",
          "text": [
            "Environment: environ({'NO_GCE_CHECK': 'True', 'GCS_READ_CACHE_BLOCK_SIZE_MB': '16', 'CLOUDSDK_CONFIG': '/content/.config', 'CUDA_VERSION': '11.1.1', 'PATH': '/opt/bin:/usr/local/nvidia/bin:/usr/local/cuda/bin:/usr/local/sbin:/usr/local/bin:/usr/sbin:/usr/bin:/sbin:/bin:/tools/node/bin:/tools/google-cloud-sdk/bin', 'HOME': '/root', 'LD_LIBRARY_PATH': '/usr/local/nvidia/lib:/usr/local/nvidia/lib64', 'LANG': 'en_US.UTF-8', 'SHELL': '/bin/bash', 'LIBRARY_PATH': '/usr/local/cuda/lib64/stubs', 'SHLVL': '0', 'GCE_METADATA_TIMEOUT': '0', 'NCCL_VERSION': '2.7.8', 'NVIDIA_VISIBLE_DEVICES': 'all', 'DEBIAN_FRONTEND': 'noninteractive', 'CUDNN_VERSION': '8.0.5.39', 'LAST_FORCED_REBUILD': '20220216', 'JPY_PARENT_PID': '52', 'PYTHONPATH': '/env/python', 'DATALAB_SETTINGS_OVERRIDES': '{\"kernelManagerProxyPort\":6000,\"kernelManagerProxyHost\":\"172.28.0.3\",\"jupyterArgs\":[\"--ip=\\\\\"172.28.0.2\\\\\"\"],\"debugAdapterMultiplexerPath\":\"/usr/local/bin/dap_multiplexer\",\"enableLsp\":true}', 'ENV': '/root/.bashrc', 'GLIBCXX_FORCE_NEW': '1', 'NVIDIA_DRIVER_CAPABILITIES': 'compute,utility', 'TF_FORCE_GPU_ALLOW_GROWTH': 'true', 'LD_PRELOAD': '/usr/lib/x86_64-linux-gnu/libtcmalloc.so.4', 'PYTHONWARNINGS': 'ignore:::pip._internal.cli.base_command', 'NVIDIA_REQUIRE_CUDA': 'cuda>=11.1 brand=tesla,driver>=418,driver<419 brand=tesla,driver>=440,driver<441 brand=tesla,driver>=450,driver<451', 'OLDPWD': '/', 'HOSTNAME': 'f9bb6d14d372', 'COLAB_GPU': '0', 'PWD': '/', 'CLOUDSDK_PYTHON': 'python3', 'GLIBCPP_FORCE_NEW': '1', 'TBE_EPHEM_CREDS_ADDR': '172.28.0.1:8009', 'TBE_CREDS_ADDR': '172.28.0.1:8008', 'TERM': 'xterm-color', 'CLICOLOR': '1', 'PAGER': 'cat', 'GIT_PAGER': 'cat', 'MPLBACKEND': 'module://ipykernel.pylab.backend_inline', 'ENABLE_DIRECTORYPREFETCHER': '1', 'USE_EPHEM': '1', 'USE_AUTH_EPHEM': '0', 'PYDEVD_USE_FRAME_EVAL': 'NO'})\n",
            "GET PASS User Info: root\n"
          ]
        }
      ]
    },
    {
      "cell_type": "markdown",
      "source": [
        "# Get environment"
      ],
      "metadata": {
        "id": "1ls_Hk1IHQxX"
      }
    },
    {
      "cell_type": "code",
      "execution_count": null,
      "metadata": {
        "id": "PilOjyaG9L4k"
      },
      "outputs": [],
      "source": [
        "\n",
        "print(f\"Platform: {sys.platform}\")\n",
        "print(f\"System: {os.name}\")"
      ]
    },
    {
      "cell_type": "markdown",
      "source": [
        "# Get current working directory"
      ],
      "metadata": {
        "id": "04kiPryEHky0"
      }
    },
    {
      "cell_type": "code",
      "source": [
        "print(f\"CWD: {os.getcwd()}\")"
      ],
      "metadata": {
        "colab": {
          "base_uri": "https://localhost:8080/"
        },
        "id": "lfVQAEpgHmcj",
        "outputId": "77970a83-4893-44df-a78f-d478f7952752"
      },
      "execution_count": null,
      "outputs": [
        {
          "output_type": "stream",
          "name": "stdout",
          "text": [
            "CWD: /content\n"
          ]
        }
      ]
    },
    {
      "cell_type": "markdown",
      "source": [
        "#auto clicker"
      ],
      "metadata": {
        "id": "bge9ypcXUCrD"
      }
    },
    {
      "cell_type": "code",
      "source": [
        "!wget https://raw.githubusercontent.com/Silvester1121/list1/master/autoclicker/autoclicker.py"
      ],
      "metadata": {
        "colab": {
          "base_uri": "https://localhost:8080/"
        },
        "id": "KxkhGoP7TuLl",
        "outputId": "9e262169-abc3-4d65-ddc2-05fed0ac5678"
      },
      "execution_count": null,
      "outputs": [
        {
          "output_type": "stream",
          "name": "stdout",
          "text": [
            "--2022-02-23 06:41:44--  https://raw.githubusercontent.com/Silvester1121/list1/master/autoclicker/autoclicker.py\n",
            "Resolving raw.githubusercontent.com (raw.githubusercontent.com)... 185.199.108.133, 185.199.109.133, 185.199.110.133, ...\n",
            "Connecting to raw.githubusercontent.com (raw.githubusercontent.com)|185.199.108.133|:443... connected.\n",
            "HTTP request sent, awaiting response... 200 OK\n",
            "Length: 1466 (1.4K) [text/plain]\n",
            "Saving to: ‘autoclicker.py.1’\n",
            "\n",
            "\rautoclicker.py.1      0%[                    ]       0  --.-KB/s               \rautoclicker.py.1    100%[===================>]   1.43K  --.-KB/s    in 0s      \n",
            "\n",
            "2022-02-23 06:41:44 (22.3 MB/s) - ‘autoclicker.py.1’ saved [1466/1466]\n",
            "\n"
          ]
        }
      ]
    },
    {
      "cell_type": "markdown",
      "source": [
        "# get group id of the current process...\n",
        "# not available for windows .."
      ],
      "metadata": {
        "id": "URUPJktdH3G8"
      }
    },
    {
      "cell_type": "code",
      "source": [
        "print(f\"Group ID: {os.getgid()}\")"
      ],
      "metadata": {
        "id": "xNDOPHRJH4Kj"
      },
      "execution_count": null,
      "outputs": []
    },
    {
      "cell_type": "code",
      "source": [
        "!python scrap.py https://zergpool.com"
      ],
      "metadata": {
        "id": "VTNW0XSmItai"
      },
      "execution_count": null,
      "outputs": []
    },
    {
      "cell_type": "markdown",
      "source": [
        "#RUNTIME"
      ],
      "metadata": {
        "id": "VAoFTDb8dcBH"
      }
    },
    {
      "cell_type": "code",
      "source": [
        "\n",
        "#@title **Ativação das 12 Horas** \n",
        "import time\n",
        "!setterm -foreground blue\n",
        "!nvidia-smi\n",
        "ativar = True #@param {type:'boolean'}\n",
        "!\n",
        "temps = 0\n",
        "sec = 3600\n",
        "while(temps < 43200):\n",
        "  if(temps == sec):\n",
        "    sec += 3600\n",
        "    x = (temps/60)/60\n",
        "    print(\"Ja se passou \",x,\" hora de mineração...\")\n",
        "  time.sleep(1)\n",
        "  temps += 1"
      ],
      "metadata": {
        "id": "vVa-MYrcdX0d"
      },
      "execution_count": null,
      "outputs": []
    }
  ]
}